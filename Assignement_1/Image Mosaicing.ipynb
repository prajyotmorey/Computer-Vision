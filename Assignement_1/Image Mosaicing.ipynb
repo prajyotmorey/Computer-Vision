{
 "cells": [
  {
   "cell_type": "markdown",
   "id": "ddac4738",
   "metadata": {},
   "source": [
    "# Image Mosaicing"
   ]
  },
  {
   "cell_type": "code",
   "execution_count": 1,
   "id": "22ef48f1",
   "metadata": {},
   "outputs": [],
   "source": [
    "import cv2\n",
    "import numpy as np\n",
    "import os\n",
    "import matplotlib.pyplot as plt"
   ]
  },
  {
   "cell_type": "code",
   "execution_count": 2,
   "id": "d9f6697c",
   "metadata": {},
   "outputs": [],
   "source": [
    "mainFolder = r\"C:\\Users\\prajy\\Desktop\\College Stuff\\SEM_2\\Computer Vision\\final_5_images\\final_5_images\"\n",
    "files=os.listdir(mainFolder)\n",
    "images=[]\n",
    "for image in files:\n",
    "    C_Image=cv2.imread(mainFolder+'/'+image)\n",
    "    C_Image=cv2.resize(C_Image,(360,360))\n",
    "    images.append(C_Image)\n",
    "    "
   ]
  },
  {
   "cell_type": "code",
   "execution_count": null,
   "id": "48e08198",
   "metadata": {},
   "outputs": [
    {
     "name": "stdout",
     "output_type": "stream",
     "text": [
      "Showing Image Mosasicing:-\n"
     ]
    }
   ],
   "source": [
    "stitcher=cv2.Stitcher.create()\n",
    "(status,result)= stitcher.stitch(images)\n",
    "if (status == cv2.STITCHER_OK):\n",
    "    print(\"Showing Image Mosasicing:-\")\n",
    "    Image_Name='Result'\n",
    "    cv2.imshow(Image_Name,result)\n",
    "    cv2.waitKey(0)\n",
    "    cv2.destroyAllWindows()"
   ]
  },
  {
   "cell_type": "code",
   "execution_count": null,
   "id": "1eee5838",
   "metadata": {},
   "outputs": [],
   "source": []
  },
  {
   "cell_type": "code",
   "execution_count": null,
   "id": "a29c3aa0",
   "metadata": {},
   "outputs": [],
   "source": []
  },
  {
   "cell_type": "code",
   "execution_count": null,
   "id": "7709a848",
   "metadata": {},
   "outputs": [],
   "source": []
  },
  {
   "cell_type": "code",
   "execution_count": null,
   "id": "b86b8f55",
   "metadata": {},
   "outputs": [],
   "source": []
  }
 ],
 "metadata": {
  "kernelspec": {
   "display_name": "Python 3",
   "language": "python",
   "name": "python3"
  },
  "language_info": {
   "codemirror_mode": {
    "name": "ipython",
    "version": 3
   },
   "file_extension": ".py",
   "mimetype": "text/x-python",
   "name": "python",
   "nbconvert_exporter": "python",
   "pygments_lexer": "ipython3",
   "version": "3.8.8"
  }
 },
 "nbformat": 4,
 "nbformat_minor": 5
}
